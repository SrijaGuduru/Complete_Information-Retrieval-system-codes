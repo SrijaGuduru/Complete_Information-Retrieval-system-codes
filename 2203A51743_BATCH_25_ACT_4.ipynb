{
  "nbformat": 4,
  "nbformat_minor": 0,
  "metadata": {
    "colab": {
      "provenance": [],
      "authorship_tag": "ABX9TyNvXdOJYg84cZe5hh/bdVXU",
      "include_colab_link": true
    },
    "kernelspec": {
      "name": "python3",
      "display_name": "Python 3"
    },
    "language_info": {
      "name": "python"
    }
  },
  "cells": [
    {
      "cell_type": "markdown",
      "metadata": {
        "id": "view-in-github",
        "colab_type": "text"
      },
      "source": [
        "<a href=\"https://colab.research.google.com/github/SrijaGuduru/SrijaGuduru/blob/main/2203A51743_BATCH_25_ACT_4.ipynb\" target=\"_parent\"><img src=\"https://colab.research.google.com/assets/colab-badge.svg\" alt=\"Open In Colab\"/></a>"
      ]
    },
    {
      "cell_type": "markdown",
      "source": [
        "Topic: Stemming\n",
        "\n",
        "Activity Name:  Live Data\n",
        "\n",
        "Activity: We will provide sample documents online.\n",
        "\n",
        "Task: Analyzing, Token Identification, Result Analysis"
      ],
      "metadata": {
        "id": "WeuqzdSIsyx-"
      }
    },
    {
      "cell_type": "code",
      "source": [
        "# Import necessary libraries\n",
        "from nltk.stem import PorterStemmer, WordNetLemmatizer, SnowballStemmer\n",
        "from nltk.tokenize import word_tokenize\n",
        "import nltk\n",
        "# Download the wordnet corpus if not already present\n",
        "nltk.download('wordnet')\n",
        "nltk.download('omw-1.4')\n",
        "# Take input from the user\n",
        "text = (\"AMAZON REVIEW RETRIEVAL SYSTEM\")\n",
        "# Simple tokenization by splitting text into words based on spaces\n",
        "tokens = text.split()\n",
        "print(\"Tokens:\", tokens)\n",
        "# Stemming using PorterStemmer and SnowballStemmer\n",
        "porter = PorterStemmer()\n",
        "snowball = SnowballStemmer(\"english\")\n",
        "porter_stems = [porter.stem(token) for token in tokens]\n",
        "snowball_stems = [snowball.stem(token) for token in tokens]\n",
        "print(\"\\nPorter Stemming:\", porter_stems)\n",
        "print(\"Snowball Stemming:\", snowball_stems)\n"
      ],
      "metadata": {
        "colab": {
          "base_uri": "https://localhost:8080/"
        },
        "id": "jcxZpfVstDPv",
        "outputId": "c35522c7-78fb-49f4-c473-e153b1ca7d15"
      },
      "execution_count": 2,
      "outputs": [
        {
          "output_type": "stream",
          "name": "stdout",
          "text": [
            "Tokens: ['AMAZON', 'REVIEW', 'RETRIEVAL', 'SYSTEM']\n",
            "\n",
            "Porter Stemming: ['amazon', 'review', 'retriev', 'system']\n",
            "Snowball Stemming: ['amazon', 'review', 'retriev', 'system']\n"
          ]
        },
        {
          "output_type": "stream",
          "name": "stderr",
          "text": [
            "[nltk_data] Downloading package wordnet to /root/nltk_data...\n",
            "[nltk_data]   Package wordnet is already up-to-date!\n",
            "[nltk_data] Downloading package omw-1.4 to /root/nltk_data...\n",
            "[nltk_data]   Package omw-1.4 is already up-to-date!\n"
          ]
        }
      ]
    }
  ]
}