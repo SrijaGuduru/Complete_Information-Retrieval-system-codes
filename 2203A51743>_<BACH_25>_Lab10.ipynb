{
  "nbformat": 4,
  "nbformat_minor": 0,
  "metadata": {
    "colab": {
      "provenance": [],
      "mount_file_id": "1osrKQlru9vtGy9ZcqJg7NuzZVRd7sWOm",
      "authorship_tag": "ABX9TyMntOu0QjDUjIcv9UpInQPW",
      "include_colab_link": true
    },
    "kernelspec": {
      "name": "python3",
      "display_name": "Python 3"
    },
    "language_info": {
      "name": "python"
    }
  },
  "cells": [
    {
      "cell_type": "markdown",
      "metadata": {
        "id": "view-in-github",
        "colab_type": "text"
      },
      "source": [
        "<a href=\"https://colab.research.google.com/github/SrijaGuduru/SrijaGuduru/blob/main/2203A51743%3E_%3CBACH_25%3E_Lab10.ipynb\" target=\"_parent\"><img src=\"https://colab.research.google.com/assets/colab-badge.svg\" alt=\"Open In Colab\"/></a>"
      ]
    },
    {
      "cell_type": "code",
      "source": [
        "import pandas as pd\n",
        "import re\n",
        "import nltk\n",
        "from nltk.corpus import stopwords\n",
        "from textblob import TextBlob\n",
        "\n",
        "# Install and download necessary NLTK data\n",
        "import nltk\n",
        "nltk.download('punkt')\n",
        "nltk.download('stopwords')\n",
        "stop_words = set(stopwords.words('english'))\n",
        "\n",
        "# Load dataset from Google Drive (if using Google Colab)\n",
        "from google.colab import drive\n",
        "drive.mount('/content/drive', force_remount=True)\n",
        "\n",
        "# Define the path to the dataset\n",
        "path = '/content/drive/My Drive/Colab Notebooks/IRS Project/'\n",
        "# The delimiter is changed to ',' to correctly parse the columns\n",
        "df = pd.read_csv(path + 'AMAZON_FASHION_5_part0.csv', encoding='latin1', delimiter=\",\")\n",
        "\n",
        "# Ensure correct column names (adjust based on actual dataset structure)\n",
        "df.columns = ['asin', 'reviewText', 'overall', 'category', 'summary']\n",
        "\n",
        "# Text Preprocessing function\n",
        "def clean_text(text):\n",
        "    text = str(text).lower()  # Convert to lowercase\n",
        "    text = re.sub(r'<.*?>', '', text)  # Remove HTML tags\n",
        "    text = re.sub(r'[^a-zA-Z\\s]', '', text)  # Remove punctuation and numbers\n",
        "    text = ' '.join([word for word in text.split() if word not in stop_words])  # Remove stopwords\n",
        "    return text\n",
        "\n",
        "# Apply text cleaning\n",
        "df['cleaned_review'] = df['reviewText'].apply(clean_text)\n",
        "\n",
        "# Sentiment Analysis using TextBlob\n",
        "def get_sentiment(text):\n",
        "    polarity = TextBlob(text).sentiment.polarity\n",
        "    if polarity >= 0.1:\n",
        "        return 'Positive'\n",
        "    elif polarity <= -0.1:\n",
        "        return 'Negative'\n",
        "    else:\n",
        "        return 'Neutral'\n",
        "\n",
        "df['sentiment'] = df['cleaned_review'].apply(get_sentiment)\n",
        "\n",
        "# Compare sentiment with actual ratings\n",
        "def map_rating_to_sentiment(rating):\n",
        "    if rating >= 4:\n",
        "        return 'Positive'\n",
        "    elif rating == 3:\n",
        "        return 'Neutral'\n",
        "    else:\n",
        "        return 'Negative'\n",
        "\n",
        "df['actual_sentiment'] = df['overall'].apply(map_rating_to_sentiment)\n",
        "\n",
        "# Calculate accuracy\n",
        "accuracy = (df['sentiment'] == df['actual_sentiment']).mean()\n",
        "print(f'Sentiment Analysis Accuracy: {accuracy * 100:.2f}%')\n",
        "\n",
        "# Display sample results\n",
        "print(df[['reviewText', 'sentiment', 'actual_sentiment']].head())"
      ],
      "metadata": {
        "colab": {
          "base_uri": "https://localhost:8080/"
        },
        "id": "B6QbwzPgtnIO",
        "outputId": "699d4a57-01dc-4ba1-de1a-de1e4b800f6d"
      },
      "execution_count": 2,
      "outputs": [
        {
          "output_type": "stream",
          "name": "stderr",
          "text": [
            "[nltk_data] Downloading package punkt to /root/nltk_data...\n",
            "[nltk_data]   Package punkt is already up-to-date!\n",
            "[nltk_data] Downloading package stopwords to /root/nltk_data...\n",
            "[nltk_data]   Package stopwords is already up-to-date!\n"
          ]
        },
        {
          "output_type": "stream",
          "name": "stdout",
          "text": [
            "Mounted at /content/drive\n",
            "Sentiment Analysis Accuracy: 75.52%\n",
            "                                          reviewText sentiment  \\\n",
            "0                           Great product and price!  Positive   \n",
            "1      Waaay too small. Will use for futur children!  Negative   \n",
            "2                    Stays vibrant after many washes  Positive   \n",
            "3                    Stays vibrant after many washes  Positive   \n",
            "4  My son really likes the pink. Ones which I was...   Neutral   \n",
            "\n",
            "  actual_sentiment  \n",
            "0         Positive  \n",
            "1          Neutral  \n",
            "2         Positive  \n",
            "3         Positive  \n",
            "4         Positive  \n"
          ]
        }
      ]
    }
  ]
}