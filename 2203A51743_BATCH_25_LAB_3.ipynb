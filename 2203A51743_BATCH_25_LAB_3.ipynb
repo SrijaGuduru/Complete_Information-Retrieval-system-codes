{
  "nbformat": 4,
  "nbformat_minor": 0,
  "metadata": {
    "colab": {
      "provenance": [],
      "include_colab_link": true
    },
    "kernelspec": {
      "name": "python3",
      "display_name": "Python 3"
    },
    "language_info": {
      "name": "python"
    }
  },
  "cells": [
    {
      "cell_type": "markdown",
      "metadata": {
        "id": "view-in-github",
        "colab_type": "text"
      },
      "source": [
        "<a href=\"https://colab.research.google.com/github/SrijaGuduru/Complete_Information-Retrieval-system-codes/blob/main/2203A51743_BATCH_25_LAB_3.ipynb\" target=\"_parent\"><img src=\"https://colab.research.google.com/assets/colab-badge.svg\" alt=\"Open In Colab\"/></a>"
      ]
    },
    {
      "cell_type": "markdown",
      "source": [
        "Perform Feature Extraction – Bag-of-Words\n",
        "\n",
        "Objective: Learn how to represent text as numerical features using the Bag-of-Words model.\n",
        "\n",
        "Tasks:\n",
        "\n",
        "•    Prepare a corpus of sample text documents.\n",
        "•    Convert text into a Bag-of-Words representation using NLTK or scikit-learn.\n",
        "•    Visualize and analyze the term-document matrix.\n",
        "\n",
        "Tools/Packages: Python, NLTK, scikit-learn.\n",
        "Expected Outcome: A numerical representation of text data, ready for further processing."
      ],
      "metadata": {
        "id": "Bn_cPXVZFUsd"
      }
    },
    {
      "cell_type": "code",
      "source": [
        "documents = [\"AMAZON REVIEW RETRIEVAL SYSTEM\"]\n",
        "\n",
        "from sklearn.feature_extraction.text import CountVectorizer\n",
        "\n",
        "\n",
        "vectorizer = CountVectorizer()\n",
        "\n",
        "\n",
        "X = vectorizer.fit_transform(documents)\n",
        "\n",
        "\n",
        "bow_array = X.toarray()\n",
        "\n",
        "print(\"Vocabulary:\\n\", vectorizer.get_feature_names_out())\n",
        "print(\"Bag-of-Words Representation:\\n\", bow_array)\n",
        "import pandas as pd\n",
        "\n",
        "\n",
        "df = pd.DataFrame(bow_array, columns=vectorizer.get_feature_names_out())\n",
        "\n",
        "print(df)\n",
        "\n",
        "\n",
        "\n",
        "\n",
        "\n",
        "\n",
        "\n"
      ],
      "metadata": {
        "colab": {
          "base_uri": "https://localhost:8080/"
        },
        "id": "7dREQ98fFVuC",
        "outputId": "69c2090f-9e22-4fef-d463-8f988f2c245d"
      },
      "execution_count": null,
      "outputs": [
        {
          "output_type": "stream",
          "name": "stdout",
          "text": [
            "Vocabulary:\n",
            " ['amazon' 'retrieval' 'review' 'system']\n",
            "Bag-of-Words Representation:\n",
            " [[1 1 1 1]]\n",
            "   amazon  retrieval  review  system\n",
            "0       1          1       1       1\n"
          ]
        }
      ]
    }
  ]
}