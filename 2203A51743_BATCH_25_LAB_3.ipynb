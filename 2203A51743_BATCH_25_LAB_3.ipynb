{
  "nbformat": 4,
  "nbformat_minor": 0,
  "metadata": {
    "colab": {
      "provenance": [],
      "authorship_tag": "ABX9TyPiPQrnPOmgtmFJRU33HQLe",
      "include_colab_link": true
    },
    "kernelspec": {
      "name": "python3",
      "display_name": "Python 3"
    },
    "language_info": {
      "name": "python"
    }
  },
  "cells": [
    {
      "cell_type": "markdown",
      "metadata": {
        "id": "view-in-github",
        "colab_type": "text"
      },
      "source": [
        "<a href=\"https://colab.research.google.com/github/SrijaGuduru/SrijaGuduru/blob/main/2203A51743_BATCH_25_LAB_3.ipynb\" target=\"_parent\"><img src=\"https://colab.research.google.com/assets/colab-badge.svg\" alt=\"Open In Colab\"/></a>"
      ]
    },
    {
      "cell_type": "markdown",
      "source": [
        "Perform Feature Extraction – Bag-of-Words\n",
        "\n",
        "Objective: Learn how to represent text as numerical features using the Bag-of-Words model.\n",
        "\n",
        "Tasks:\n",
        "\n",
        "•    Prepare a corpus of sample text documents.\n",
        "•    Convert text into a Bag-of-Words representation using NLTK or scikit-learn.\n",
        "•    Visualize and analyze the term-document matrix.\n",
        "\n",
        "Tools/Packages: Python, NLTK, scikit-learn.\n",
        "Expected Outcome: A numerical representation of text data, ready for further processing."
      ],
      "metadata": {
        "id": "mGU0abpeHt_L"
      }
    },
    {
      "cell_type": "code",
      "source": [
        "documents = [\"AMAZON REVIEW RETRIEVAL SYSTEM\"]\n",
        "# Import necessary libraries\n",
        "from sklearn.feature_extraction.text import CountVectorizer\n",
        "\n",
        "# Create an instance of the CountVectorizer\n",
        "vectorizer = CountVectorizer()\n",
        "\n",
        "# Fit the model and transform the documents into a BoW representation\n",
        "X = vectorizer.fit_transform(documents)\n",
        "\n",
        "# Convert the sparse matrix representation to a dense array for visualization purposes\n",
        "bow_array = X.toarray()\n",
        "\n",
        "print(\"Vocabulary:\\n\", vectorizer.get_feature_names_out())\n",
        "print(\"Bag-of-Words Representation:\\n\", bow_array)\n",
        "import pandas as pd\n",
        "\n",
        "# Create a DataFrame from the BoW array\n",
        "df = pd.DataFrame(bow_array, columns=vectorizer.get_feature_names_out())\n",
        "\n",
        "print(df)\n",
        "\n",
        "\n",
        "\n",
        "\n",
        "\n",
        "\n",
        "\n"
      ],
      "metadata": {
        "colab": {
          "base_uri": "https://localhost:8080/"
        },
        "id": "bpJjwSxgHvUa",
        "outputId": "2b24ad05-6e09-4a34-8297-775375127feb"
      },
      "execution_count": 4,
      "outputs": [
        {
          "output_type": "stream",
          "name": "stdout",
          "text": [
            "Vocabulary:\n",
            " ['amazon' 'retrieval' 'review' 'system']\n",
            "Bag-of-Words Representation:\n",
            " [[1 1 1 1]]\n",
            "   amazon  retrieval  review  system\n",
            "0       1          1       1       1\n"
          ]
        }
      ]
    }
  ]
}