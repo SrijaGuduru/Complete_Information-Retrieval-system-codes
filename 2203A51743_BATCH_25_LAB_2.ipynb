{
  "nbformat": 4,
  "nbformat_minor": 0,
  "metadata": {
    "colab": {
      "provenance": [],
      "include_colab_link": true
    },
    "kernelspec": {
      "name": "python3",
      "display_name": "Python 3"
    },
    "language_info": {
      "name": "python"
    }
  },
  "cells": [
    {
      "cell_type": "markdown",
      "metadata": {
        "id": "view-in-github",
        "colab_type": "text"
      },
      "source": [
        "<a href=\"https://colab.research.google.com/github/SrijaGuduru/Complete_Information-Retrieval-system-codes/blob/main/2203A51743_BATCH_25_LAB_2.ipynb\" target=\"_parent\"><img src=\"https://colab.research.google.com/assets/colab-badge.svg\" alt=\"Open In Colab\"/></a>"
      ]
    },
    {
      "cell_type": "markdown",
      "source": [
        "Perform Stemming, Tokenization, and Lemmatization\n",
        "\n",
        "Objective: Explore various text normalization techniques.\n",
        "Tasks:\n",
        "•    Tokenize a sample text into words.\n",
        "•    Apply stemming using algorithms like Porter or Snowball Stemmer.\n",
        "•    Perform lemmatization using WordNetLemmatizer.\n",
        "\n",
        "Tools/Packages: Python, NLTK.\n",
        "\n",
        "Expected Outcome: A comparative understanding of stemming and lemmatization with examples.\n",
        "\n",
        "Submission Type: Submit the Google Colab url link and the downloaded file (<HallticketNo>-<BatchNo>-Lab-2.ipynb) in the Canvas."
      ],
      "metadata": {
        "id": "HnrFrCMUBL6m"
      }
    },
    {
      "cell_type": "code",
      "source": [
        "# Import necessary libraries\n",
        "from nltk.stem import PorterStemmer, WordNetLemmatizer, SnowballStemmer\n",
        "from nltk.tokenize import word_tokenize\n",
        "import nltk\n",
        "\n",
        "# Download the wordnet corpus if not already present\n",
        "nltk.download('wordnet')\n",
        "nltk.download('omw-1.4')  # Download additional resources for lemmatizer\n",
        "\n",
        "# Take input from the user\n",
        "text = (\"AMAZON REVIEW RETRIEVAL SYSTEM\")\n",
        "\n",
        "# Simple tokenization by splitting text into words based on spaces\n",
        "tokens = text.split()\n",
        "print(\"Tokens:\", tokens)\n",
        "\n",
        "# Stemming using PorterStemmer and SnowballStemmer\n",
        "porter = PorterStemmer()\n",
        "snowball = SnowballStemmer(\"english\")\n",
        "porter_stems = [porter.stem(token) for token in tokens]\n",
        "snowball_stems = [snowball.stem(token) for token in tokens]\n",
        "print(\"\\nPorter Stemming:\", porter_stems)\n",
        "print(\"Snowball Stemming:\", snowball_stems)\n",
        "\n",
        "# Lemmatization using WordNetLemmatizer\n",
        "lemmatizer = WordNetLemmatizer()\n",
        "lemmas = [lemmatizer.lemmatize(token) for token in tokens]\n",
        "print(\"Lemmas:\", lemmas)"
      ],
      "metadata": {
        "colab": {
          "base_uri": "https://localhost:8080/"
        },
        "id": "9JJ-PuocBZmn",
        "outputId": "82bcea66-92a6-42ba-a7b0-e2a1fbb62a5f"
      },
      "execution_count": null,
      "outputs": [
        {
          "output_type": "stream",
          "name": "stdout",
          "text": [
            "Tokens: ['AMAZON', 'REVIEW', 'RETRIEVAL', 'SYSTEM']\n",
            "\n",
            "Porter Stemming: ['amazon', 'review', 'retriev', 'system']\n",
            "Snowball Stemming: ['amazon', 'review', 'retriev', 'system']\n",
            "Lemmas: ['AMAZON', 'REVIEW', 'RETRIEVAL', 'SYSTEM']\n"
          ]
        },
        {
          "output_type": "stream",
          "name": "stderr",
          "text": [
            "[nltk_data] Downloading package wordnet to /root/nltk_data...\n",
            "[nltk_data]   Package wordnet is already up-to-date!\n",
            "[nltk_data] Downloading package omw-1.4 to /root/nltk_data...\n",
            "[nltk_data]   Package omw-1.4 is already up-to-date!\n"
          ]
        }
      ]
    }
  ]
}